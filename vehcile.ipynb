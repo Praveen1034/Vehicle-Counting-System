{
 "cells": [
  {
   "cell_type": "markdown",
   "metadata": {},
   "source": [
    "# **Vehicle Counter** "
   ]
  },
  {
   "cell_type": "code",
   "execution_count": 2,
   "metadata": {},
   "outputs": [],
   "source": [
    "# Import Some Library\n",
    "import cv2 as cv\n",
    "import numpy as np"
   ]
  },
  {
   "cell_type": "code",
   "execution_count": 21,
   "metadata": {},
   "outputs": [
    {
     "data": {
      "text/plain": [
       "<function VideoCapture.release>"
      ]
     },
     "execution_count": 21,
     "metadata": {},
     "output_type": "execute_result"
    }
   ],
   "source": [
    "# web capture\n",
    "capture = cv.VideoCapture('video.mp4')\n",
    "\n",
    "count_line_postion = 550\n",
    "\n",
    "min_width_rectangle =  15\n",
    "min_length_rectangle = 15\n",
    "\n",
    "# counting list\n",
    "def center_handle(x,y,w,h):\n",
    "    x1 = int(w/2)\n",
    "    y1=  int(h/2)\n",
    "    cx=x+x1\n",
    "    cy=y+y1\n",
    "    return cx,cy\n",
    "\n",
    "detect = [] \n",
    "offset = 6 # allowable error between pixcel\n",
    "counter = 0\n",
    "\n",
    "# Subtract Background\n",
    "bg_sub = cv.createBackgroundSubtractorMOG2(history=500, varThreshold=350, detectShadows=False)\n",
    "while True:\n",
    "\n",
    "    ret,frame = capture.read()\n",
    "    # convert into grey\n",
    "    grey = cv.cvtColor(frame,cv.COLOR_BGR2GRAY)\n",
    "\n",
    "    # median filter\n",
    "    n=20\n",
    "    kernel = np.array([[2/n,4/n,2/n],\n",
    "                       [4/n,8/n,4/n],\n",
    "                       [2/n,4/n,2/n]])\n",
    "\n",
    "    blur = cv.filter2D(grey,0,kernel)\n",
    "    \n",
    "    # blur = cv.GaussianBlur(grey,(3,3),0)\n",
    "    #apply on each frame\n",
    "    img_sub = bg_sub.apply(blur)\n",
    "    kernel = np.array([[1,1,1],\n",
    "                       [1,1,1],\n",
    "                       [1,1,1]],dtype=np.uint8)\n",
    "  # horizontal Image\n",
    "    dilat = cv.dilate(img_sub,kernel,iterations = 12)  #12    \n",
    "    \n",
    "    kernel = cv.getStructuringElement(cv.MORPH_ELLIPSE,(4,4))\n",
    "    \n",
    "    kernel = np.array([[1,1,1],\n",
    "                       [1,1,1],\n",
    "                       [1,1,1]])\n",
    "      # horizontal Image\n",
    "    diltada = cv.erode(dilat,kernel,iterations = 28) #28\n",
    "\n",
    "    # diltada = cv.morphologyEx(dilat,cv.MORPH_ELLIPSE,kernel)   \n",
    "    # diltada = cv.morphologyEx(diltada,cv.MORPH_CLOSE,kernel)\n",
    "    counterShape,h = cv.findContours(diltada,cv.RETR_TREE,cv.CHAIN_APPROX_SIMPLE)\n",
    "    \n",
    "    cv.line(frame,(50,count_line_postion),(1500,count_line_postion),(255,0,255),2)\n",
    "    \n",
    "    for (i,c) in enumerate(counterShape):\n",
    "        (x,y,w,h) = cv.boundingRect(c)\n",
    "        validate_counter = (w>= min_width_rectangle) and (w>= min_length_rectangle)   \n",
    "        if not validate_counter:\n",
    "            continue\n",
    "        \n",
    "        cv.rectangle(frame,(x-5,y-5),(x+w-5,y+w-5),(0,255,0),2)\n",
    "        # cv.putText(frame,\"Vehicle Counter :\"+str(counter),(x,y-20),cv.FONT_HERSHEY_SIMPLEX,1,(125,245,255),2)    \n",
    "        \n",
    "        center = center_handle(x,y,w,h)\n",
    "        detect.append(center)\n",
    "    # Assuming detect is a list containing the center coordinates (x, y)\n",
    "        cv.circle(frame, center, 5, (0, 0, 255), -1)\n",
    "        \n",
    "        for (x,y) in detect:\n",
    "            if y<(count_line_postion + offset ) and y>(count_line_postion - offset ):\n",
    "                counter += 1\n",
    "                cv.line(frame,(50,count_line_postion),(1500,count_line_postion),(0,115,205),2)\n",
    "                detect.remove((x,y))\n",
    "                # print('vehcile Counter :'+str(counter))\n",
    "    \n",
    "    cv.putText(frame,\"Vehicle Counter :\"+str(counter),(450,75),cv.FONT_HERSHEY_SIMPLEX,2,(0,0,255),2)    \n",
    "                \n",
    " \n",
    "    cv.imshow('Video Original',frame)    \n",
    "    if cv.waitKey(1) == 13:\n",
    "        break\n",
    "\n",
    "cv.destroyAllWindows()\n",
    "\n",
    "capture.release"
   ]
  },
  {
   "cell_type": "code",
   "execution_count": null,
   "metadata": {},
   "outputs": [],
   "source": []
  }
 ],
 "metadata": {
  "kernelspec": {
   "display_name": "Python 3",
   "language": "python",
   "name": "python3"
  },
  "language_info": {
   "codemirror_mode": {
    "name": "ipython",
    "version": 3
   },
   "file_extension": ".py",
   "mimetype": "text/x-python",
   "name": "python",
   "nbconvert_exporter": "python",
   "pygments_lexer": "ipython3",
   "version": "3.11.3"
  }
 },
 "nbformat": 4,
 "nbformat_minor": 2
}
